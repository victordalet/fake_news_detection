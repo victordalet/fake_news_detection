{
 "cells": [
  {
   "cell_type": "code",
   "execution_count": 5,
   "id": "3791d832-ede0-43ae-89e5-2709a48ac09d",
   "metadata": {},
   "outputs": [],
   "source": [
    "import numpy as np\n",
    "import pandas as pd\n",
    "import re #traduction des mot en chiffres\n",
    "from nltk.corpus import stopwords #suppression des mots inutiles\n",
    "from nltk.stem.porter import PorterStemmer\n",
    "from sklearn.feature_extraction.text import TfidfVectorizer #texte en vecteur\n",
    "from sklearn.model_selection import train_test_split\n",
    "from sklearn.linear_model import LogisticRegression\n",
    "from sklearn.metrics import accuracy_score"
   ]
  },
  {
   "cell_type": "code",
   "execution_count": 7,
   "id": "8156ba9f-1241-4c20-953c-22b4cb8e9416",
   "metadata": {},
   "outputs": [
    {
     "name": "stderr",
     "output_type": "stream",
     "text": [
      "[nltk_data] Downloading package stopwords to\n",
      "[nltk_data]     C:\\Users\\victo\\AppData\\Roaming\\nltk_data...\n",
      "[nltk_data]   Unzipping corpora\\stopwords.zip.\n"
     ]
    },
    {
     "data": {
      "text/plain": [
       "True"
      ]
     },
     "execution_count": 7,
     "metadata": {},
     "output_type": "execute_result"
    }
   ],
   "source": [
    "import nltk\n",
    "nltk.download('stopwords')"
   ]
  },
  {
   "cell_type": "code",
   "execution_count": null,
   "id": "97f6051e-ad44-4faa-af88-21844a29d3e1",
   "metadata": {
    "tags": []
   },
   "outputs": [],
   "source": [
    "#priting the stopwords in english\n",
    "print(stopwords.words('english'))"
   ]
  },
  {
   "cell_type": "code",
   "execution_count": 11,
   "id": "a8979658-4faa-4437-ad53-1285bc5bc34c",
   "metadata": {},
   "outputs": [],
   "source": [
    "########################################data Pre-processing########################################"
   ]
  },
  {
   "cell_type": "code",
   "execution_count": 18,
   "id": "1922a89f-e4b8-4c8f-a103-a8200b1a3858",
   "metadata": {},
   "outputs": [],
   "source": [
    "#loading the dataset to a panda Dataframe\n",
    "news_dataset = pd.read_csv('data/train.csv')"
   ]
  },
  {
   "cell_type": "code",
   "execution_count": 20,
   "id": "d47f9ab5-a124-498f-a01e-35a6652e3571",
   "metadata": {},
   "outputs": [
    {
     "data": {
      "text/plain": [
       "(20800, 5)"
      ]
     },
     "execution_count": 20,
     "metadata": {},
     "output_type": "execute_result"
    }
   ],
   "source": [
    "news_dataset.shape  #displays the number of columns and lines"
   ]
  },
  {
   "cell_type": "code",
   "execution_count": null,
   "id": "4df434dd-3b98-408e-9e83-4416e4b8fcdb",
   "metadata": {},
   "outputs": [],
   "source": []
  }
 ],
 "metadata": {
  "kernelspec": {
   "display_name": "Python 3 (ipykernel)",
   "language": "python",
   "name": "python3"
  },
  "language_info": {
   "codemirror_mode": {
    "name": "ipython",
    "version": 3
   },
   "file_extension": ".py",
   "mimetype": "text/x-python",
   "name": "python",
   "nbconvert_exporter": "python",
   "pygments_lexer": "ipython3",
   "version": "3.10.0"
  }
 },
 "nbformat": 4,
 "nbformat_minor": 5
}
